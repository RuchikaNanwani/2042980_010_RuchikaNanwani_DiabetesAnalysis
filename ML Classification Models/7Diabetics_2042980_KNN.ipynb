{
  "nbformat": 4,
  "nbformat_minor": 0,
  "metadata": {
    "colab": {
      "name": "Diabetes_2042980_7_KNN.ipynb",
      "provenance": [],
      "collapsed_sections": []
    },
    "kernelspec": {
      "name": "python3",
      "display_name": "Python 3"
    },
    "language_info": {
      "name": "python"
    }
  },
  "cells": [
    {
      "cell_type": "code",
      "execution_count": null,
      "metadata": {
        "id": "w0uWutwpMOHm"
      },
      "outputs": [],
      "source": [
        "# Importing the required Libraries\n",
        "\n",
        "import numpy as np                    # numpy\n",
        "import matplotlib.pyplot as plt       # matplotlib\n",
        "import pandas as pd                   # pandas"
      ]
    },
    {
      "cell_type": "code",
      "source": [
        "# Reading dataset from .csv file\n",
        "\n",
        "dataset = pd.read_csv('sample_data/diabetes.csv') # reading diabetes.csv\n",
        "dataset.head()                                    # checking the top values "
      ],
      "metadata": {
        "colab": {
          "base_uri": "https://localhost:8080/",
          "height": 204
        },
        "id": "xKlKfPcDMfeW",
        "outputId": "71d834d3-7672-46a2-d26f-0eb8a5337e42"
      },
      "execution_count": null,
      "outputs": [
        {
          "output_type": "execute_result",
          "data": {
            "text/plain": [
              "   Pregnancies  Glucose  BloodPressure  SkinThickness  Insulin   BMI  \\\n",
              "0            6      148             72             35        0  33.6   \n",
              "1            1       85             66             29        0  26.6   \n",
              "2            8      183             64              0        0  23.3   \n",
              "3            1       89             66             23       94  28.1   \n",
              "4            0      137             40             35      168  43.1   \n",
              "\n",
              "   DiabetesPedigreeFunction  Age  Outcome  \n",
              "0                     0.627   50        1  \n",
              "1                     0.351   31        0  \n",
              "2                     0.672   32        1  \n",
              "3                     0.167   21        0  \n",
              "4                     2.288   33        1  "
            ],
            "text/html": [
              "\n",
              "  <div id=\"df-dfdf720a-e7d2-4192-af1a-449782a7caf1\">\n",
              "    <div class=\"colab-df-container\">\n",
              "      <div>\n",
              "<style scoped>\n",
              "    .dataframe tbody tr th:only-of-type {\n",
              "        vertical-align: middle;\n",
              "    }\n",
              "\n",
              "    .dataframe tbody tr th {\n",
              "        vertical-align: top;\n",
              "    }\n",
              "\n",
              "    .dataframe thead th {\n",
              "        text-align: right;\n",
              "    }\n",
              "</style>\n",
              "<table border=\"1\" class=\"dataframe\">\n",
              "  <thead>\n",
              "    <tr style=\"text-align: right;\">\n",
              "      <th></th>\n",
              "      <th>Pregnancies</th>\n",
              "      <th>Glucose</th>\n",
              "      <th>BloodPressure</th>\n",
              "      <th>SkinThickness</th>\n",
              "      <th>Insulin</th>\n",
              "      <th>BMI</th>\n",
              "      <th>DiabetesPedigreeFunction</th>\n",
              "      <th>Age</th>\n",
              "      <th>Outcome</th>\n",
              "    </tr>\n",
              "  </thead>\n",
              "  <tbody>\n",
              "    <tr>\n",
              "      <th>0</th>\n",
              "      <td>6</td>\n",
              "      <td>148</td>\n",
              "      <td>72</td>\n",
              "      <td>35</td>\n",
              "      <td>0</td>\n",
              "      <td>33.6</td>\n",
              "      <td>0.627</td>\n",
              "      <td>50</td>\n",
              "      <td>1</td>\n",
              "    </tr>\n",
              "    <tr>\n",
              "      <th>1</th>\n",
              "      <td>1</td>\n",
              "      <td>85</td>\n",
              "      <td>66</td>\n",
              "      <td>29</td>\n",
              "      <td>0</td>\n",
              "      <td>26.6</td>\n",
              "      <td>0.351</td>\n",
              "      <td>31</td>\n",
              "      <td>0</td>\n",
              "    </tr>\n",
              "    <tr>\n",
              "      <th>2</th>\n",
              "      <td>8</td>\n",
              "      <td>183</td>\n",
              "      <td>64</td>\n",
              "      <td>0</td>\n",
              "      <td>0</td>\n",
              "      <td>23.3</td>\n",
              "      <td>0.672</td>\n",
              "      <td>32</td>\n",
              "      <td>1</td>\n",
              "    </tr>\n",
              "    <tr>\n",
              "      <th>3</th>\n",
              "      <td>1</td>\n",
              "      <td>89</td>\n",
              "      <td>66</td>\n",
              "      <td>23</td>\n",
              "      <td>94</td>\n",
              "      <td>28.1</td>\n",
              "      <td>0.167</td>\n",
              "      <td>21</td>\n",
              "      <td>0</td>\n",
              "    </tr>\n",
              "    <tr>\n",
              "      <th>4</th>\n",
              "      <td>0</td>\n",
              "      <td>137</td>\n",
              "      <td>40</td>\n",
              "      <td>35</td>\n",
              "      <td>168</td>\n",
              "      <td>43.1</td>\n",
              "      <td>2.288</td>\n",
              "      <td>33</td>\n",
              "      <td>1</td>\n",
              "    </tr>\n",
              "  </tbody>\n",
              "</table>\n",
              "</div>\n",
              "      <button class=\"colab-df-convert\" onclick=\"convertToInteractive('df-dfdf720a-e7d2-4192-af1a-449782a7caf1')\"\n",
              "              title=\"Convert this dataframe to an interactive table.\"\n",
              "              style=\"display:none;\">\n",
              "        \n",
              "  <svg xmlns=\"http://www.w3.org/2000/svg\" height=\"24px\"viewBox=\"0 0 24 24\"\n",
              "       width=\"24px\">\n",
              "    <path d=\"M0 0h24v24H0V0z\" fill=\"none\"/>\n",
              "    <path d=\"M18.56 5.44l.94 2.06.94-2.06 2.06-.94-2.06-.94-.94-2.06-.94 2.06-2.06.94zm-11 1L8.5 8.5l.94-2.06 2.06-.94-2.06-.94L8.5 2.5l-.94 2.06-2.06.94zm10 10l.94 2.06.94-2.06 2.06-.94-2.06-.94-.94-2.06-.94 2.06-2.06.94z\"/><path d=\"M17.41 7.96l-1.37-1.37c-.4-.4-.92-.59-1.43-.59-.52 0-1.04.2-1.43.59L10.3 9.45l-7.72 7.72c-.78.78-.78 2.05 0 2.83L4 21.41c.39.39.9.59 1.41.59.51 0 1.02-.2 1.41-.59l7.78-7.78 2.81-2.81c.8-.78.8-2.07 0-2.86zM5.41 20L4 18.59l7.72-7.72 1.47 1.35L5.41 20z\"/>\n",
              "  </svg>\n",
              "      </button>\n",
              "      \n",
              "  <style>\n",
              "    .colab-df-container {\n",
              "      display:flex;\n",
              "      flex-wrap:wrap;\n",
              "      gap: 12px;\n",
              "    }\n",
              "\n",
              "    .colab-df-convert {\n",
              "      background-color: #E8F0FE;\n",
              "      border: none;\n",
              "      border-radius: 50%;\n",
              "      cursor: pointer;\n",
              "      display: none;\n",
              "      fill: #1967D2;\n",
              "      height: 32px;\n",
              "      padding: 0 0 0 0;\n",
              "      width: 32px;\n",
              "    }\n",
              "\n",
              "    .colab-df-convert:hover {\n",
              "      background-color: #E2EBFA;\n",
              "      box-shadow: 0px 1px 2px rgba(60, 64, 67, 0.3), 0px 1px 3px 1px rgba(60, 64, 67, 0.15);\n",
              "      fill: #174EA6;\n",
              "    }\n",
              "\n",
              "    [theme=dark] .colab-df-convert {\n",
              "      background-color: #3B4455;\n",
              "      fill: #D2E3FC;\n",
              "    }\n",
              "\n",
              "    [theme=dark] .colab-df-convert:hover {\n",
              "      background-color: #434B5C;\n",
              "      box-shadow: 0px 1px 3px 1px rgba(0, 0, 0, 0.15);\n",
              "      filter: drop-shadow(0px 1px 2px rgba(0, 0, 0, 0.3));\n",
              "      fill: #FFFFFF;\n",
              "    }\n",
              "  </style>\n",
              "\n",
              "      <script>\n",
              "        const buttonEl =\n",
              "          document.querySelector('#df-dfdf720a-e7d2-4192-af1a-449782a7caf1 button.colab-df-convert');\n",
              "        buttonEl.style.display =\n",
              "          google.colab.kernel.accessAllowed ? 'block' : 'none';\n",
              "\n",
              "        async function convertToInteractive(key) {\n",
              "          const element = document.querySelector('#df-dfdf720a-e7d2-4192-af1a-449782a7caf1');\n",
              "          const dataTable =\n",
              "            await google.colab.kernel.invokeFunction('convertToInteractive',\n",
              "                                                     [key], {});\n",
              "          if (!dataTable) return;\n",
              "\n",
              "          const docLinkHtml = 'Like what you see? Visit the ' +\n",
              "            '<a target=\"_blank\" href=https://colab.research.google.com/notebooks/data_table.ipynb>data table notebook</a>'\n",
              "            + ' to learn more about interactive tables.';\n",
              "          element.innerHTML = '';\n",
              "          dataTable['output_type'] = 'display_data';\n",
              "          await google.colab.output.renderOutput(dataTable, element);\n",
              "          const docLink = document.createElement('div');\n",
              "          docLink.innerHTML = docLinkHtml;\n",
              "          element.appendChild(docLink);\n",
              "        }\n",
              "      </script>\n",
              "    </div>\n",
              "  </div>\n",
              "  "
            ]
          },
          "metadata": {},
          "execution_count": 2
        }
      ]
    },
    {
      "cell_type": "code",
      "source": [
        "# Calculating the estimated value of k by the number of entries in dataset\n",
        "\n",
        "import math\n",
        "N = math.sqrt(768)\n",
        "k = N/2\n",
        "print(k)"
      ],
      "metadata": {
        "colab": {
          "base_uri": "https://localhost:8080/"
        },
        "id": "qnIytY8mic0m",
        "outputId": "d8aa45a1-3c8e-499c-ea92-80192a495ba7"
      },
      "execution_count": null,
      "outputs": [
        {
          "output_type": "stream",
          "name": "stdout",
          "text": [
            "13.856406460551018\n"
          ]
        }
      ]
    },
    {
      "cell_type": "code",
      "source": [
        "# Replacing the missing or null entries in dataset by np.Nan\n",
        "\n",
        "# Plotting the histograms of various parameters (columns) in dataset\n",
        "\n",
        "col_missing = [\"Glucose\", \"BloodPressure\", \"SkinThickness\", \"Insulin\", \"BMI\"]\n",
        "for c in col_missing:                                                         # for loop\n",
        "   dataset[c] = dataset[c].replace(0, np.nan)                                 # replace all the values in every column by np.nan value                        \n",
        "dataset.hist(bins=50, figsize = (8.0, 6.0))                                   # function used to plot histogram, bins are the size of the BARs in histogram\n",
        "plt.tight_layout(True)                                                        # tight_layout automatically adjusts subplot params so that the subplot(s) fits in to the figure area. \n",
        "plt.show()                                                                    # plt. show() starts an event loop, looks for all currently active figure objects, and opens one or more interactive windows that display your figure or figures\n"
      ],
      "metadata": {
        "id": "s7WX7lnhMgt0",
        "colab": {
          "base_uri": "https://localhost:8080/",
          "height": 443
        },
        "outputId": "312662be-ddf2-459d-cd7b-6194c1826a29"
      },
      "execution_count": null,
      "outputs": [
        {
          "output_type": "display_data",
          "data": {
            "text/plain": [
              "<Figure size 576x432 with 9 Axes>"
            ],
            "image/png": "[encoded data removed]"
          },
          "metadata": {
            "needs_background": "light"
          }
        }
      ]
    },
    {
      "cell_type": "code",
      "source": [
        "# Splitting the X and y in test and train sets. Train will be used to fit in the model for doing the \n",
        "# predictions on the test set\n",
        "\n",
        "\n",
        "X = dataset.iloc[:, :-1].values                                                # all rows but exclude the last column\n",
        "y = dataset.iloc[:, -1].values                                                 # all rows but include only the last column"
      ],
      "metadata": {
        "id": "pXpIhA-rMj0a"
      },
      "execution_count": null,
      "outputs": []
    },
    {
      "cell_type": "code",
      "source": [
        "# Splitting the X and y in test and train sets. Train will be used to fit in the model for doing the \n",
        "# predictions on the test set\n",
        "\n",
        "from sklearn.model_selection import train_test_split                                              # train_test_split is a function in Sklearn model selection for splitting data arrays into two subsets: for training data and for testing data\n",
        "X_train, X_test, y_train, y_test = train_test_split(X, y, test_size = 0.3, random_state = 0)      # keeping the test size as 0.3 and train size being 0.7, random_state is basically used for reproducing your problem the same every time it is run.     "
      ],
      "metadata": {
        "id": "8CymeTNQMnjF"
      },
      "execution_count": null,
      "outputs": []
    },
    {
      "cell_type": "code",
      "source": [
        "# SimpleImputer is used to handle the np.NaN values\n",
        "# Replacing the missing values with median\n",
        "\n",
        "from sklearn.impute import SimpleImputer                                                          # The SimpleImputer class provides basic strategies for imputing missing values\n",
        "impute = SimpleImputer(missing_values = np.NaN, strategy='median')                                # replace all the np.nan values with a strategy called as median. It takes a median of every column and replaces every np.nan value of that respective column\n",
        "X_train = impute.fit_transform(X_train)                                                           # fit_transform() is used on the training data so that we can scale the training data and also learn the scaling parameters of that data \n",
        "X_test = impute.fit_transform(X_test)                                                             # The fit method is calculating the mean and variance of each of the features present in our data. The transform method is transforming all the features using the respective mean and variance."
      ],
      "metadata": {
        "id": "V8MDiIeuMpoh"
      },
      "execution_count": null,
      "outputs": []
    },
    {
      "cell_type": "code",
      "source": [
        "# StandardScaler standardizes a feature by subtracting the mean and then scaling to unit variance\n",
        "\n",
        "from sklearn.preprocessing import StandardScaler                                                  # StandardScaler removes the mean and scales each feature/variable to unit variance. This operation is performed feature-wise in an independent way. \n",
        "sc = StandardScaler()                                                                             \n",
        "X_train = sc.fit_transform(X_train)                                                               # fit_transform() is used on the training data so that we can scale the training data and also learn the scaling parameters of that data \n",
        "X_test = sc.transform(X_test)                                                                     # The fit method is calculating the mean and variance of each of the features present in our data. The transform method is transforming all the features using the respective mean and variance."
      ],
      "metadata": {
        "id": "FKbxJ5GgNw0S"
      },
      "execution_count": null,
      "outputs": []
    },
    {
      "cell_type": "code",
      "source": [
        "# Using KNN algorithm and fitting the X_train and y_train values\n",
        "# KNeighborsClassifier is a function and the parameter n_neighbors = 13 is passed as per the calculation above\n",
        "\n",
        "from sklearn.neighbors import KNeighborsClassifier                                                # KNN works by finding the distances between a query and all the examples in the data, selecting the specified number examples (K) closest to the query, then votes for the most frequent label (in the case of classification) or averages the labels (in the case of regression).\n",
        "knc = KNeighborsClassifier(n_neighbors = 13)\n",
        "knc.fit(X_train, y_train)                                                                         # the fit method accepts training data as arguments. 2 columns in case of supervised learning\n"
      ],
      "metadata": {
        "colab": {
          "base_uri": "https://localhost:8080/"
        },
        "id": "nBRtPPSLOx2H",
        "outputId": "fb934838-c29f-419d-9feb-843789c82df2"
      },
      "execution_count": null,
      "outputs": [
        {
          "output_type": "execute_result",
          "data": {
            "text/plain": [
              "KNeighborsClassifier(n_neighbors=13)"
            ]
          },
          "metadata": {},
          "execution_count": 9
        }
      ]
    },
    {
      "cell_type": "code",
      "source": [
        "# Predicting y label values by X_test features.\n",
        "\n",
        "y_pred = knc.predict(X_test)                                                                      # predicting the values using test data"
      ],
      "metadata": {
        "id": "fI1uem58NSRN"
      },
      "execution_count": null,
      "outputs": []
    },
    {
      "cell_type": "code",
      "source": [
        "# Printing the actual and predicted y_test values\n",
        "\n",
        "print(np.concatenate((y_pred.reshape(len(y_pred),1), y_test.reshape(len(y_test),1)),1))           # printing the actual and predicted values together. reshaping to have two dimensions in numpy array"
      ],
      "metadata": {
        "id": "m2LAbFkmNnmz",
        "colab": {
          "base_uri": "https://localhost:8080/"
        },
        "outputId": "5472b89f-6260-492e-aeb5-113c46b8521e"
      },
      "execution_count": null,
      "outputs": [
        {
          "output_type": "stream",
          "name": "stdout",
          "text": [
            "[[1 1]\n",
            " [0 0]\n",
            " [0 0]\n",
            " [1 1]\n",
            " [0 0]\n",
            " [0 0]\n",
            " [1 1]\n",
            " [1 1]\n",
            " [0 0]\n",
            " [0 0]\n",
            " [1 1]\n",
            " [1 1]\n",
            " [0 0]\n",
            " [0 0]\n",
            " [0 0]\n",
            " [0 0]\n",
            " [1 1]\n",
            " [0 0]\n",
            " [0 0]\n",
            " [0 0]\n",
            " [0 1]\n",
            " [0 1]\n",
            " [0 0]\n",
            " [0 0]\n",
            " [0 0]\n",
            " [0 0]\n",
            " [0 0]\n",
            " [1 0]\n",
            " [0 0]\n",
            " [0 0]\n",
            " [1 0]\n",
            " [0 0]\n",
            " [0 0]\n",
            " [1 0]\n",
            " [0 0]\n",
            " [1 1]\n",
            " [0 1]\n",
            " [0 0]\n",
            " [0 0]\n",
            " [1 0]\n",
            " [0 0]\n",
            " [0 0]\n",
            " [0 0]\n",
            " [1 1]\n",
            " [1 1]\n",
            " [0 0]\n",
            " [0 0]\n",
            " [0 1]\n",
            " [1 1]\n",
            " [0 1]\n",
            " [0 0]\n",
            " [0 0]\n",
            " [1 1]\n",
            " [0 0]\n",
            " [0 0]\n",
            " [0 0]\n",
            " [0 0]\n",
            " [1 1]\n",
            " [0 1]\n",
            " [1 1]\n",
            " [1 1]\n",
            " [0 0]\n",
            " [0 0]\n",
            " [1 1]\n",
            " [1 1]\n",
            " [1 1]\n",
            " [1 1]\n",
            " [0 0]\n",
            " [1 0]\n",
            " [0 0]\n",
            " [0 0]\n",
            " [0 0]\n",
            " [0 0]\n",
            " [1 0]\n",
            " [1 1]\n",
            " [0 0]\n",
            " [0 0]\n",
            " [1 0]\n",
            " [0 0]\n",
            " [0 0]\n",
            " [0 0]\n",
            " [0 0]\n",
            " [0 0]\n",
            " [0 0]\n",
            " [0 0]\n",
            " [0 0]\n",
            " [0 1]\n",
            " [0 0]\n",
            " [1 1]\n",
            " [0 0]\n",
            " [0 0]\n",
            " [0 0]\n",
            " [0 0]\n",
            " [0 0]\n",
            " [1 0]\n",
            " [0 0]\n",
            " [0 1]\n",
            " [0 0]\n",
            " [1 1]\n",
            " [0 1]\n",
            " [0 0]\n",
            " [0 0]\n",
            " [0 0]\n",
            " [0 0]\n",
            " [0 0]\n",
            " [0 1]\n",
            " [0 0]\n",
            " [0 0]\n",
            " [0 0]\n",
            " [1 1]\n",
            " [0 0]\n",
            " [0 1]\n",
            " [1 1]\n",
            " [1 1]\n",
            " [1 1]\n",
            " [1 1]\n",
            " [0 0]\n",
            " [1 0]\n",
            " [0 0]\n",
            " [1 1]\n",
            " [0 0]\n",
            " [0 0]\n",
            " [0 0]\n",
            " [0 0]\n",
            " [0 0]\n",
            " [0 0]\n",
            " [0 0]\n",
            " [0 1]\n",
            " [0 0]\n",
            " [0 0]\n",
            " [0 0]\n",
            " [0 0]\n",
            " [0 0]\n",
            " [1 1]\n",
            " [0 0]\n",
            " [1 1]\n",
            " [0 0]\n",
            " [0 1]\n",
            " [0 1]\n",
            " [0 0]\n",
            " [0 0]\n",
            " [1 0]\n",
            " [0 0]\n",
            " [0 0]\n",
            " [1 1]\n",
            " [0 0]\n",
            " [0 0]\n",
            " [0 0]\n",
            " [0 0]\n",
            " [0 1]\n",
            " [0 0]\n",
            " [0 1]\n",
            " [0 0]\n",
            " [0 0]\n",
            " [1 1]\n",
            " [0 0]\n",
            " [0 0]\n",
            " [0 0]\n",
            " [1 1]\n",
            " [1 1]\n",
            " [1 1]\n",
            " [1 1]\n",
            " [0 0]\n",
            " [0 0]\n",
            " [1 0]\n",
            " [0 1]\n",
            " [0 0]\n",
            " [0 0]\n",
            " [0 0]\n",
            " [1 0]\n",
            " [0 0]\n",
            " [0 0]\n",
            " [0 1]\n",
            " [0 1]\n",
            " [0 0]\n",
            " [0 0]\n",
            " [0 0]\n",
            " [0 0]\n",
            " [0 0]\n",
            " [0 0]\n",
            " [0 1]\n",
            " [1 1]\n",
            " [0 0]\n",
            " [1 1]\n",
            " [0 1]\n",
            " [0 0]\n",
            " [0 1]\n",
            " [0 1]\n",
            " [0 1]\n",
            " [0 0]\n",
            " [0 0]\n",
            " [0 0]\n",
            " [0 0]\n",
            " [0 0]\n",
            " [0 0]\n",
            " [1 1]\n",
            " [1 1]\n",
            " [1 0]\n",
            " [0 0]\n",
            " [0 0]\n",
            " [0 0]\n",
            " [0 0]\n",
            " [0 0]\n",
            " [0 0]\n",
            " [0 1]\n",
            " [0 0]\n",
            " [0 0]\n",
            " [0 0]\n",
            " [1 1]\n",
            " [0 0]\n",
            " [0 1]\n",
            " [0 0]\n",
            " [0 0]\n",
            " [0 0]\n",
            " [0 0]\n",
            " [0 0]\n",
            " [0 1]\n",
            " [0 1]\n",
            " [0 0]\n",
            " [0 0]\n",
            " [0 1]\n",
            " [0 0]\n",
            " [0 1]\n",
            " [1 1]\n",
            " [0 0]\n",
            " [1 0]\n",
            " [0 1]\n",
            " [0 1]\n",
            " [0 0]\n",
            " [0 0]\n",
            " [1 0]]\n"
          ]
        }
      ]
    },
    {
      "cell_type": "code",
      "source": [
        "# Printing the confusion matrix of actual and predicted y_test values\n",
        "\n",
        "# Computing accuracy_score to evaluate the accuracy of a classification.\n",
        "\n",
        "from sklearn.metrics import confusion_matrix, accuracy_score                                      \n",
        "cm = confusion_matrix(y_test, y_pred)                                         # A confusion matrix is a tabular summary of the number of correct and incorrect predictions made by a classifier.\n",
        "print(cm)                                                                     # printing confusion matrix\n",
        "accuracy_score(y_test, y_pred)                                                # The accuracy_score function computes the accuracy"
      ],
      "metadata": {
        "colab": {
          "base_uri": "https://localhost:8080/"
        },
        "id": "JJjAlSIbNr95",
        "outputId": "770560bb-dedc-494e-fd79-5eb24174f8f9"
      },
      "execution_count": null,
      "outputs": [
        {
          "output_type": "stream",
          "name": "stdout",
          "text": [
            "[[142  15]\n",
            " [ 32  42]]\n"
          ]
        },
        {
          "output_type": "execute_result",
          "data": {
            "text/plain": [
              "0.7965367965367965"
            ]
          },
          "metadata": {},
          "execution_count": 12
        }
      ]
    },
    {
      "cell_type": "code",
      "source": [
        "# Printing classification report to evaluate metric \n",
        "\n",
        "from sklearn.metrics import classification_report                             # import the classification report, It is a performance evaluation metric in machine learning which is used to show the precision, recall, F1 Score, and support score of your trained classification model.\n",
        "print(classification_report(y_test, y_pred))                                  # print the report"
      ],
      "metadata": {
        "colab": {
          "base_uri": "https://localhost:8080/"
        },
        "id": "FTuDk54RP_bS",
        "outputId": "b1f2f8eb-fbb0-43bc-d6b5-1964c98f829d"
      },
      "execution_count": null,
      "outputs": [
        {
          "output_type": "stream",
          "name": "stdout",
          "text": [
            "              precision    recall  f1-score   support\n",
            "\n",
            "           0       0.82      0.90      0.86       157\n",
            "           1       0.74      0.57      0.64        74\n",
            "\n",
            "    accuracy                           0.80       231\n",
            "   macro avg       0.78      0.74      0.75       231\n",
            "weighted avg       0.79      0.80      0.79       231\n",
            "\n"
          ]
        }
      ]
    },
    {
      "cell_type": "code",
      "source": [
        "# Creating multiple subplots to check the actual and the predicted value of the binary outcome\n",
        "\n",
        "fig, ax = plt.subplots(figsize=(8, 8))                                        # One can use plt.subplots() to make all their subplots at once and it returns the figure and axes (plural of axis) of the subplots as a tuple.\n",
        "ax.imshow(cm)                                                                 # imshow() method is used to display an image in a window.\n",
        "ax.grid(False)                                                                # The Axes. grid() function in axes module of matplotlib library is used to Configure the grid lines.\n",
        "ax.xaxis.set(ticks=(0, 1), ticklabels=('Predicted 0s', 'Predicted 1s'))       # Ticks are the values used to show specific points on the coordinate axis.\n",
        "ax.yaxis.set(ticks=(0, 1), ticklabels=('Actual 0s', 'Actual 1s'))             # Ticks are the values used to show specific points on the coordinate axis.\n",
        "ax.set_ylim(1.5, -0.5)                                                        # set_ylim() function in axes module of matplotlib library is used to set the y-axis view limits.\n",
        "for i in range(2):                                                            # 2 * 2 image\n",
        "    for j in range(2):                                                        # 2 * 2 image\n",
        "        ax.text(j, i, cm[i, j], ha='center', va='center', color='red')        # place the count in center in color red\n",
        "plt.show()                                                                    # plt. show() starts an event loop, looks for all currently active figure objects, and opens one or more interactive windows that display your figure or figures"
      ],
      "metadata": {
        "colab": {
          "base_uri": "https://localhost:8080/",
          "height": 483
        },
        "id": "P694WkGnQD_B",
        "outputId": "3422b39d-abc3-4af2-a87b-eba8ed2b9ef5"
      },
      "execution_count": null,
      "outputs": [
        {
          "output_type": "display_data",
          "data": {
            "text/plain": [
              "<Figure size 576x576 with 1 Axes>"
            ],
            "image/png": "[encoded data removed]"
          },
          "metadata": {
            "needs_background": "light"
          }
        }
      ]
    },
    {
      "cell_type": "code",
      "source": [
        "knc.score(X_test, y_test)"
      ],
      "metadata": {
        "colab": {
          "base_uri": "https://localhost:8080/"
        },
        "id": "Gob1v0IsabUL",
        "outputId": "38dfec5a-dcb6-438e-eee2-4296fa3def38"
      },
      "execution_count": null,
      "outputs": [
        {
          "output_type": "execute_result",
          "data": {
            "text/plain": [
              "0.7965367965367965"
            ]
          },
          "metadata": {},
          "execution_count": 15
        }
      ]
    },
    {
      "cell_type": "code",
      "source": [
        "# Creating multiple BAR Plots to check the actual and the predicted value of the binary outcome\n",
        "\n",
        "\n",
        "df = pd.DataFrame({'y_pred': y_pred, 'y_test': y_test})\n",
        "fig, ax = plt.subplots()                                                            # One can use plt.subplots() to make all their subplots at once and it returns the figure and axes (plural of axis) of the subplots as a tuple.\n",
        "df.y_test.value_counts().plot(kind='bar', ax=ax)                                    # plot the count of y_test\n",
        "df.y_pred.value_counts().plot(kind='bar', width=0.3, color='r', ax=ax)              # plot the count of y_pred\n",
        "for p in ax.patches:                                                                # The matplotlib.patches.Rectangle class is used to rectangle patch to a plot with lower left at xy = (x, y) with specified width, height \n",
        "    ax.annotate(str(p.get_height()), (p.get_x() * 1.005, p.get_height() * 1.005))   # An annotation is a text element that can be placed anywhere in the plot. Show the value of counts. get_height is tweak the string formatting and the offsets to get things centered\n",
        "plt.legend()                                                                        # add the labels to the plot.\n",
        "plt.show()                                                                          # plt. show() starts an event loop, looks for all currently active figure objects, and opens one or more interactive windows that display your figure or figures"
      ],
      "metadata": {
        "colab": {
          "base_uri": "https://localhost:8080/",
          "height": 262
        },
        "id": "bMTMY4UNahiX",
        "outputId": "0124c56b-167b-4bc1-bb29-4aa6a36dfef9"
      },
      "execution_count": null,
      "outputs": [
        {
          "output_type": "display_data",
          "data": {
            "text/plain": [
              "<Figure size 432x288 with 1 Axes>"
            ],
            "image/png": "[encoded data removed]"
          },
          "metadata": {
            "needs_background": "light"
          }
        }
      ]
    },
    {
      "cell_type": "code",
      "source": [
        "#  The ROC curve is created by plotting the FPR (false positive rate) vs the TPR (true positive rate) \n",
        "#  at various thresholds settings\n",
        "\n",
        "from sklearn.metrics import roc_curve                             # roc_auc_score is defined as the area under the ROC curve, which is the curve having False Positive Rate on the x-axis and True Positive Rate on the y-axis at all classification thresholds.\n",
        "y_pred_proba = rfc.predict_proba(X_test)[:,1]\n",
        "fpr, tpr, thresholds = roc_curve(y_test, y_pred_proba)            # roc_auc_score is defined as the area under the ROC curve, which is the curve having False Positive Rate on the x-axis and True Positive Rate on the y-axis at all classification thresholds.\n",
        "plt.plot([0,1],[0,1],'k-')                                        # plot the x and y axis in the range of 0 to 1, label being DT\n",
        "plt.plot(fpr,tpr, label='DT')                                     # plot the fpr and tpr obtained\n",
        "plt.xlabel('fpr')                                                 # x label\n",
        "plt.ylabel('tpr')                                                 # y label\n",
        "plt.title('ROC curve')                                            # title\n",
        "plt.show()                                                        # plt. show() starts an event loop, looks for all currently active figure objects, and opens one or more interactive windows that display your figure or figures"
      ],
      "metadata": {
        "colab": {
          "base_uri": "https://localhost:8080/",
          "height": 295
        },
        "id": "nNNGfozBanAB",
        "outputId": "e9b3e99c-02cd-42a5-a24d-d3c944108278"
      },
      "execution_count": null,
      "outputs": [
        {
          "output_type": "display_data",
          "data": {
            "text/plain": [
              "<Figure size 432x288 with 1 Axes>"
            ],
            "image/png": "[encoded data removed]"
          },
          "metadata": {
            "needs_background": "light"
          }
        }
      ]
    },
    {
      "cell_type": "code",
      "source": [
        "#Checking roc_auc_score for y_test and y_pred. It provides area under the curve\n",
        "\n",
        "from sklearn.metrics import roc_auc_score                # roc_auc_score is defined as the area under the ROC curve, which is the curve having False Positive Rate on the x-axis and True Positive Rate on the y-axis at all classification thresholds.\n",
        "roc_auc_score(y_test,y_pred)                             # calculating roc_auc_score for y_test and y_pred (predicted y)\n"
      ],
      "metadata": {
        "colab": {
          "base_uri": "https://localhost:8080/"
        },
        "id": "N9WYHN80aqDZ",
        "outputId": "0dbbb05f-8f1f-4132-9120-5599fb25d40f"
      },
      "execution_count": null,
      "outputs": [
        {
          "output_type": "execute_result",
          "data": {
            "text/plain": [
              "0.7360130831468411"
            ]
          },
          "metadata": {},
          "execution_count": 18
        }
      ]
    },
    {
      "cell_type": "code",
      "source": [
        "#Checking roc_auc_score for y_test and y_pred_proba. It provides area under the curve\n",
        "\n",
        "from sklearn.metrics import roc_auc_score               # roc_auc_score is defined as the area under the ROC curve, which is the curve having False Positive Rate on the x-axis and True Positive Rate on the y-axis at all classification thresholds.\n",
        "roc_auc_score(y_test,y_pred_proba)                      # calculating roc_auc_score for y_test and y_pred_proba (probability of predicted y)"
      ],
      "metadata": {
        "colab": {
          "base_uri": "https://localhost:8080/"
        },
        "id": "2d_8wEQOeEgB",
        "outputId": "e5e278e9-a38d-495e-bc25-6e0558ba837f"
      },
      "execution_count": null,
      "outputs": [
        {
          "output_type": "execute_result",
          "data": {
            "text/plain": [
              "0.8277672577035635"
            ]
          },
          "metadata": {},
          "execution_count": 19
        }
      ]
    }
  ]
}